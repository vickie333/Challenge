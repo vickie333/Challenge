{
 "cells": [
  {
   "cell_type": "markdown",
   "id": "3ed6828d-f8af-49d3-9f51-f3051b3dc605",
   "metadata": {},
   "source": [
    "# 1. Carga y Limpieza de Datos de BTC/USDT\n",
    "\n",
    "Este notebook carga los datos históricos de precios de Bitcoin (BTC/USDT) desde un archivo CSV, realiza una limpieza básica de columnas irrelevantes, y filtra el rango de fechas de interés.\n",
    "\n",
    "📅 **Rango de fechas usado:**  \n",
    "Desde el `2024-01-20` hasta el `2025-06-20`.\n"
   ]
  },
  {
   "cell_type": "code",
   "execution_count": 1,
   "id": "9e17fb63-b1d1-443c-8eaa-25bbe929e03f",
   "metadata": {},
   "outputs": [],
   "source": [
    "import pandas as pd\n",
    "from modules.load_data import load_ohlcv_csv "
   ]
  },
  {
   "cell_type": "code",
   "execution_count": 2,
   "id": "a604bcd9-d952-4a7d-acd7-5123d1c78293",
   "metadata": {},
   "outputs": [],
   "source": [
    "csv_file = 'data/Bitstamp_BTCUSDT_d.csv'"
   ]
  },
  {
   "cell_type": "code",
   "execution_count": 3,
   "id": "9be10911-b446-48bd-a3fe-32eae8fc08b0",
   "metadata": {},
   "outputs": [],
   "source": [
    "start = '2024-01-20'\n",
    "end = '2025-06-20'"
   ]
  },
  {
   "cell_type": "code",
   "execution_count": 4,
   "id": "30b1f593-9d62-4af2-9a2c-1375284d27b7",
   "metadata": {},
   "outputs": [],
   "source": [
    "btc_data = load_ohlcv_csv(csv_file, start_date=start, end_date=end)"
   ]
  },
  {
   "cell_type": "code",
   "execution_count": 5,
   "id": "64d7cd8f-dcb2-4ba7-8689-50df1762d4ba",
   "metadata": {},
   "outputs": [
    {
     "data": {
      "text/html": [
       "<div>\n",
       "<style scoped>\n",
       "    .dataframe tbody tr th:only-of-type {\n",
       "        vertical-align: middle;\n",
       "    }\n",
       "\n",
       "    .dataframe tbody tr th {\n",
       "        vertical-align: top;\n",
       "    }\n",
       "\n",
       "    .dataframe thead th {\n",
       "        text-align: right;\n",
       "    }\n",
       "</style>\n",
       "<table border=\"1\" class=\"dataframe\">\n",
       "  <thead>\n",
       "    <tr style=\"text-align: right;\">\n",
       "      <th></th>\n",
       "      <th>open</th>\n",
       "      <th>high</th>\n",
       "      <th>low</th>\n",
       "      <th>close</th>\n",
       "      <th>Volume BTC</th>\n",
       "      <th>Volume USDT</th>\n",
       "    </tr>\n",
       "    <tr>\n",
       "      <th>date</th>\n",
       "      <th></th>\n",
       "      <th></th>\n",
       "      <th></th>\n",
       "      <th></th>\n",
       "      <th></th>\n",
       "      <th></th>\n",
       "    </tr>\n",
       "  </thead>\n",
       "  <tbody>\n",
       "    <tr>\n",
       "      <th>2024-01-20</th>\n",
       "      <td>41672.0</td>\n",
       "      <td>41823.0</td>\n",
       "      <td>41493.0</td>\n",
       "      <td>41693.0</td>\n",
       "      <td>6.842462</td>\n",
       "      <td>2.852828e+05</td>\n",
       "    </tr>\n",
       "    <tr>\n",
       "      <th>2024-01-21</th>\n",
       "      <td>41722.0</td>\n",
       "      <td>41855.0</td>\n",
       "      <td>41536.0</td>\n",
       "      <td>41537.0</td>\n",
       "      <td>2.771034</td>\n",
       "      <td>1.151004e+05</td>\n",
       "    </tr>\n",
       "    <tr>\n",
       "      <th>2024-01-22</th>\n",
       "      <td>41564.0</td>\n",
       "      <td>41663.0</td>\n",
       "      <td>39449.0</td>\n",
       "      <td>39533.0</td>\n",
       "      <td>48.193464</td>\n",
       "      <td>1.905232e+06</td>\n",
       "    </tr>\n",
       "    <tr>\n",
       "      <th>2024-01-23</th>\n",
       "      <td>39554.0</td>\n",
       "      <td>40157.0</td>\n",
       "      <td>38533.0</td>\n",
       "      <td>39871.0</td>\n",
       "      <td>67.277449</td>\n",
       "      <td>2.682419e+06</td>\n",
       "    </tr>\n",
       "    <tr>\n",
       "      <th>2024-01-24</th>\n",
       "      <td>39934.0</td>\n",
       "      <td>40480.0</td>\n",
       "      <td>39490.0</td>\n",
       "      <td>40090.0</td>\n",
       "      <td>36.448158</td>\n",
       "      <td>1.461207e+06</td>\n",
       "    </tr>\n",
       "  </tbody>\n",
       "</table>\n",
       "</div>"
      ],
      "text/plain": [
       "               open     high      low    close  Volume BTC   Volume USDT\n",
       "date                                                                    \n",
       "2024-01-20  41672.0  41823.0  41493.0  41693.0    6.842462  2.852828e+05\n",
       "2024-01-21  41722.0  41855.0  41536.0  41537.0    2.771034  1.151004e+05\n",
       "2024-01-22  41564.0  41663.0  39449.0  39533.0   48.193464  1.905232e+06\n",
       "2024-01-23  39554.0  40157.0  38533.0  39871.0   67.277449  2.682419e+06\n",
       "2024-01-24  39934.0  40480.0  39490.0  40090.0   36.448158  1.461207e+06"
      ]
     },
     "execution_count": 5,
     "metadata": {},
     "output_type": "execute_result"
    }
   ],
   "source": [
    "btc_data.head()"
   ]
  },
  {
   "cell_type": "code",
   "execution_count": 6,
   "id": "18fbf415-6491-4a0b-a4a8-b8acbc8c049a",
   "metadata": {},
   "outputs": [
    {
     "name": "stdout",
     "output_type": "stream",
     "text": [
      "<class 'pandas.core.frame.DataFrame'>\n",
      "DatetimeIndex: 518 entries, 2024-01-20 to 2025-06-20\n",
      "Data columns (total 6 columns):\n",
      " #   Column       Non-Null Count  Dtype  \n",
      "---  ------       --------------  -----  \n",
      " 0   open         518 non-null    float64\n",
      " 1   high         518 non-null    float64\n",
      " 2   low          518 non-null    float64\n",
      " 3   close        518 non-null    float64\n",
      " 4   Volume BTC   518 non-null    float64\n",
      " 5   Volume USDT  518 non-null    float64\n",
      "dtypes: float64(6)\n",
      "memory usage: 28.3 KB\n"
     ]
    }
   ],
   "source": [
    "btc_data.info()"
   ]
  },
  {
   "cell_type": "code",
   "execution_count": 7,
   "id": "4493c9a9-4889-4a31-a38f-d6e35f697f06",
   "metadata": {},
   "outputs": [
    {
     "data": {
      "text/html": [
       "<div>\n",
       "<style scoped>\n",
       "    .dataframe tbody tr th:only-of-type {\n",
       "        vertical-align: middle;\n",
       "    }\n",
       "\n",
       "    .dataframe tbody tr th {\n",
       "        vertical-align: top;\n",
       "    }\n",
       "\n",
       "    .dataframe thead th {\n",
       "        text-align: right;\n",
       "    }\n",
       "</style>\n",
       "<table border=\"1\" class=\"dataframe\">\n",
       "  <thead>\n",
       "    <tr style=\"text-align: right;\">\n",
       "      <th></th>\n",
       "      <th>open</th>\n",
       "      <th>high</th>\n",
       "      <th>low</th>\n",
       "      <th>close</th>\n",
       "      <th>Volume BTC</th>\n",
       "      <th>Volume USDT</th>\n",
       "    </tr>\n",
       "  </thead>\n",
       "  <tbody>\n",
       "    <tr>\n",
       "      <th>count</th>\n",
       "      <td>518.000000</td>\n",
       "      <td>518.000000</td>\n",
       "      <td>518.000000</td>\n",
       "      <td>518.000000</td>\n",
       "      <td>518.000000</td>\n",
       "      <td>5.180000e+02</td>\n",
       "    </tr>\n",
       "    <tr>\n",
       "      <th>mean</th>\n",
       "      <td>76404.333977</td>\n",
       "      <td>77865.001931</td>\n",
       "      <td>74912.886100</td>\n",
       "      <td>76516.523166</td>\n",
       "      <td>24.490180</td>\n",
       "      <td>1.740489e+06</td>\n",
       "    </tr>\n",
       "    <tr>\n",
       "      <th>std</th>\n",
       "      <td>18380.542336</td>\n",
       "      <td>18589.439695</td>\n",
       "      <td>18102.695545</td>\n",
       "      <td>18347.917650</td>\n",
       "      <td>30.198000</td>\n",
       "      <td>2.134567e+06</td>\n",
       "    </tr>\n",
       "    <tr>\n",
       "      <th>min</th>\n",
       "      <td>39554.000000</td>\n",
       "      <td>40157.000000</td>\n",
       "      <td>38533.000000</td>\n",
       "      <td>39533.000000</td>\n",
       "      <td>0.393221</td>\n",
       "      <td>3.911655e+04</td>\n",
       "    </tr>\n",
       "    <tr>\n",
       "      <th>25%</th>\n",
       "      <td>62823.250000</td>\n",
       "      <td>63861.500000</td>\n",
       "      <td>61182.500000</td>\n",
       "      <td>62863.250000</td>\n",
       "      <td>5.404182</td>\n",
       "      <td>4.077794e+05</td>\n",
       "    </tr>\n",
       "    <tr>\n",
       "      <th>50%</th>\n",
       "      <td>69294.000000</td>\n",
       "      <td>70295.500000</td>\n",
       "      <td>67954.000000</td>\n",
       "      <td>69353.500000</td>\n",
       "      <td>13.826119</td>\n",
       "      <td>9.999008e+05</td>\n",
       "    </tr>\n",
       "    <tr>\n",
       "      <th>75%</th>\n",
       "      <td>95022.250000</td>\n",
       "      <td>96524.250000</td>\n",
       "      <td>93626.000000</td>\n",
       "      <td>95255.250000</td>\n",
       "      <td>31.830749</td>\n",
       "      <td>2.184194e+06</td>\n",
       "    </tr>\n",
       "    <tr>\n",
       "      <th>max</th>\n",
       "      <td>111524.000000</td>\n",
       "      <td>111910.000000</td>\n",
       "      <td>109600.000000</td>\n",
       "      <td>111677.000000</td>\n",
       "      <td>252.363329</td>\n",
       "      <td>1.609018e+07</td>\n",
       "    </tr>\n",
       "  </tbody>\n",
       "</table>\n",
       "</div>"
      ],
      "text/plain": [
       "                open           high            low          close  Volume BTC  \\\n",
       "count     518.000000     518.000000     518.000000     518.000000  518.000000   \n",
       "mean    76404.333977   77865.001931   74912.886100   76516.523166   24.490180   \n",
       "std     18380.542336   18589.439695   18102.695545   18347.917650   30.198000   \n",
       "min     39554.000000   40157.000000   38533.000000   39533.000000    0.393221   \n",
       "25%     62823.250000   63861.500000   61182.500000   62863.250000    5.404182   \n",
       "50%     69294.000000   70295.500000   67954.000000   69353.500000   13.826119   \n",
       "75%     95022.250000   96524.250000   93626.000000   95255.250000   31.830749   \n",
       "max    111524.000000  111910.000000  109600.000000  111677.000000  252.363329   \n",
       "\n",
       "        Volume USDT  \n",
       "count  5.180000e+02  \n",
       "mean   1.740489e+06  \n",
       "std    2.134567e+06  \n",
       "min    3.911655e+04  \n",
       "25%    4.077794e+05  \n",
       "50%    9.999008e+05  \n",
       "75%    2.184194e+06  \n",
       "max    1.609018e+07  "
      ]
     },
     "execution_count": 7,
     "metadata": {},
     "output_type": "execute_result"
    }
   ],
   "source": [
    "btc_data.describe()"
   ]
  },
  {
   "cell_type": "code",
   "execution_count": 8,
   "id": "0db21370-bc7e-4254-8104-447815d9f6d7",
   "metadata": {},
   "outputs": [],
   "source": [
    "btc_data.to_csv('btc_data_clean.csv')"
   ]
  }
 ],
 "metadata": {
  "kernelspec": {
   "display_name": "Python 3 (ipykernel)",
   "language": "python",
   "name": "python3"
  },
  "language_info": {
   "codemirror_mode": {
    "name": "ipython",
    "version": 3
   },
   "file_extension": ".py",
   "mimetype": "text/x-python",
   "name": "python",
   "nbconvert_exporter": "python",
   "pygments_lexer": "ipython3",
   "version": "3.13.5"
  }
 },
 "nbformat": 4,
 "nbformat_minor": 5
}
